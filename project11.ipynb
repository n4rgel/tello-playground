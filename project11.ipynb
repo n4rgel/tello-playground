{
 "cells": [
  {
   "cell_type": "code",
   "execution_count": null,
   "id": "56c978a0",
   "metadata": {},
   "outputs": [],
   "source": [
    "import cv2\n",
    "import numpy as np"
   ]
  },
  {
   "cell_type": "code",
   "execution_count": null,
   "id": "95b52c68",
   "metadata": {},
   "outputs": [],
   "source": [
    "cap=cv2.VideoCapture(0)\n",
    "cap.set(3, 300)\n",
    "cap.set(4, 300)"
   ]
  },
  {
   "cell_type": "code",
   "execution_count": null,
   "id": "3c8aac9d",
   "metadata": {},
   "outputs": [],
   "source": [
    "network = cv2.dnn.readNetFromCaffe(\"./models/deploy.prototxt\", \"./models/res10_300x300_ssd_iter_140000.caffemodel\")\n",
    "\n",
    "network.setPreferableBackend(cv2.dnn.DNN_BACKEND_CUDA)\n",
    "network.setPreferableTarget(cv2.dnn.DNN_TARGET_CUDA)"
   ]
  },
  {
   "cell_type": "code",
   "execution_count": null,
   "id": "d978485b",
   "metadata": {},
   "outputs": [],
   "source": [
    "def detectFaces(net, frame, conf_threshold=0.7):\n",
    "    \n",
    "    frameHeight = frame.shape[0]\n",
    "    frameWidth = frame.shape[1]\n",
    "    blob = cv2.dnn.blobFromImage(frame, 1.0, (300, 300), [104, 117, 123], False, False,)\n",
    "\n",
    "    net.setInput(blob)\n",
    "    detections = net.forward()\n",
    "    bboxes = []\n",
    "    for i in range(detections.shape[2]):\n",
    "        confidence = detections[0, 0, i, 2]\n",
    "        if confidence > conf_threshold:\n",
    "            x1 = int(detections[0, 0, i, 3] * frameWidth)\n",
    "            y1 = int(detections[0, 0, i, 4] * frameHeight)\n",
    "            x2 = int(detections[0, 0, i, 5] * frameWidth)\n",
    "            y2 = int(detections[0, 0, i, 6] * frameHeight)\n",
    "            bboxes.append([x1, y1, x2, y2])\n",
    "            cv2.rectangle(frame, (x1, y1), (x2, y2), (0, 255, 0), int(round(frameHeight / 150)), 8,)\n",
    "            \n",
    "            top=x1\n",
    "            right=y1\n",
    "            bottom=x2-x1\n",
    "            left=y2-y1\n",
    "\n",
    "            #  blurry rectangle to the detected face\n",
    "            face = frame[right:right+left, top:top+bottom]\n",
    "            #desenfocar cara\n",
    "            #face = cv2.GaussianBlur(face,(23, 23), 30)\n",
    "            frame[right:right+face.shape[0], top:top+face.shape[1]] = face\n",
    "\n",
    "    return frame, bboxes\n",
    "\n",
    "\n"
   ]
  },
  {
   "cell_type": "code",
   "execution_count": null,
   "id": "6124bd83",
   "metadata": {},
   "outputs": [],
   "source": [
    "detectionEnabled = False\n",
    "while True:\n",
    "    try:\n",
    "        ret, frame = cap.read()\n",
    "\n",
    "        if(detectionEnabled == True):\n",
    "            outOpencvDnn, bboxes = detectFaces(network, frame)\n",
    "\n",
    "        cv2.imshow(\"Output\",frame)\n",
    "\n",
    "    except Exception as e:\n",
    "        print(f'exc: {e}')\n",
    "        pass\n",
    "\n",
    "    # key controller\n",
    "    key = cv2.waitKey(1) & 0xFF    \n",
    "    if key == ord(\"d\"):\n",
    "        detectionEnabled = not detectionEnabled\n",
    "\n",
    "    if key == ord(\"q\"):\n",
    "        break\n",
    "cap.release()\n",
    "cv2.destroyAllWindows()"
   ]
  }
 ],
 "metadata": {
  "kernelspec": {
   "display_name": "Python 3.7.2 ('drone2')",
   "language": "python",
   "name": "python3"
  },
  "language_info": {
   "codemirror_mode": {
    "name": "ipython",
    "version": 3
   },
   "file_extension": ".py",
   "mimetype": "text/x-python",
   "name": "python",
   "nbconvert_exporter": "python",
   "pygments_lexer": "ipython3",
   "version": "3.7.2"
  },
  "vscode": {
   "interpreter": {
    "hash": "b50da7d8683204688ad0c5ee06e89744121276486e0dd3c588352aa173310d99"
   }
  }
 },
 "nbformat": 4,
 "nbformat_minor": 5
}
